{
 "cells": [
  {
   "cell_type": "markdown",
   "metadata": {},
   "source": [
    "# 신경망의 수학적 구성 요소(Mathematical Components of neural networks)\n",
    "\n",
    "* 아래 코드를 구현하기 위해서는 keras랑 tensorflow를 설치해 주어야 한다.\n",
    "```bash\n",
    "pip install keras\n",
    "pip install tensorflow\n",
    "pip install --user --upgrade tensorflow-gpu\n",
    "pip install --user --upgrade tensorboard\n",
    "pip install keras==2.3.1\n",
    "pip install tensorflow==2.2\n",
    "pip install --user --upgrade tensorflow-gpu==1.14.0\n",
    "```"
   ]
  },
  {
   "cell_type": "code",
   "execution_count": null,
   "metadata": {},
   "outputs": [],
   "source": [
    "## 신경망과의 첫 만남\n",
    "from keras.datasets import mnist\n",
    "(train_images, train_labels), (test_images, test_labels) = mnist.load_data()"
   ]
  },
  {
   "cell_type": "code",
   "execution_count": null,
   "metadata": {},
   "outputs": [],
   "source": [
    "print(train_images.shape)\n",
    "print(len(train_labels))"
   ]
  }
 ],
 "metadata": {
  "kernelspec": {
   "display_name": "Python 3",
   "language": "python",
   "name": "python3"
  },
  "language_info": {
   "codemirror_mode": {
    "name": "ipython",
    "version": 3
   },
   "file_extension": ".py",
   "mimetype": "text/x-python",
   "name": "python",
   "nbconvert_exporter": "python",
   "pygments_lexer": "ipython3",
   "version": "3.8.5"
  }
 },
 "nbformat": 4,
 "nbformat_minor": 4
}
