{
 "cells": [
  {
   "cell_type": "markdown",
   "metadata": {},
   "source": [
    "# 4장. 머신 러닝의 기본 요소(Fundamental Elements of Machine Learning)\n",
    "★ 참고 링크\n",
    "https://github.com/gilbutITbook/006975/\n",
    "\n",
    "https://wikidocs.net/94660\n",
    "\n",
    "※ 이 장에서 다룰 핵심 내용\n",
    "* 분류와 회귀 이외의 머신 러닝 형태\n",
    "* 머신 러닝 모델의 올바른 평가 과정\n",
    "* 딥러닝을 위한 데이터 전처리\n",
    "* 특성 공학\n",
    "* 과대적합 문제 해결\n",
    "* 머신 러닝 문제를 다루는 일반적인 작업 흐름\n",
    "\n",
    "※ 머신 러닝에서 아주 중요한 문제인 과대적합(Overfitting)도 직접 보았습니다. 이 장에서는 딥러닝 문제에 도전하고 해결하기 위해 새롭게 얻은 직관을 확고한 개념으로 정립하겠습니다. 모델 평가, 데이터 전처리, 특성 공학, 과대적합 문제 같은 이런 모든 개념을 머신 러닝 문제를 해결하기 위한 7단계 작업 흐름으로 자세하게 정리하겠습니다.\n",
    "\n",
    "## 4.1 머신 러닝의 네 가지 분류(Four Categories of Machine Learning)\n",
    "* 이전 예제에서 세 가지 종류의 머신 러닝 문제를 다루었습니다. 이진 분류, 다중 분류, 스칼라 회귀입니다. 이 셋은 모두 지도 학습(supervised learning)의 예입니다. 지도 학습의 목표는 훈련 데이터의 입력과 타깃 사이에 있는 관계를 학습하는 것입니다.\n",
    "* 지도 학습은 빙산의 일각일 뿐입니다. 전체 머신 러닝은 복잡한 하위 분류를 가진 방대한 분야입니다. 일반적으로 머신 러닝 알고리즘은 다음 절에서 소개하는 4개의 커다른 범주 안에 속합니다.\n",
    "\n",
    "### 4.1.1 지도 학습(Supervised Learning)\n",
    "* 지도 학습이 가장 흔한 경우입니다. (종종 사람이 레이블링한) 샘플 데이터가 주어지면 알고 있는 타깃(꼬리표(annotation)라고도 합니다)에 입력 데이터를 매핑하는 방법을 학습합니다. 지금까지 이 책에서 본 4개의 예제는 모두 지도 학습의 고전적인 예입니다.요즘 스포트라이트를 받는 광학 문자 판독, 음성 인식, 이미지 분류, 언어 번역 같은 딥러닝의 거의 모든 애플리케이션이 일반적으로 이 범주에 속합니다.\n",
    "★ 지도 학습은 대부분 분류(Classification)와 회귀(Regression)로 구성되지만 다음과 같은 특이한 변종도 많습니다.\n",
    "* 시퀀스 생성(sequence generation): 사진이 주어지면 이를 설명하는 캡션을 생성합니다. 시퀀스 생성은 이따금(시퀀스에 있는 단어나 토큰(token)을 반복적으로 예측하는 것처럼) 일련의 분류 문제로 재구성할 수 있습니다.\n",
    "* 구문 트리(syntax tree)예측: 문장이 주어지면 분해된 구문 트리를 예측합니다.\n",
    "* 물체 감지(object detection): 사진이 주어지면 사진 안의 특정 물체 주위에 경계 상자(bounding box)를 그립니다. 이는 (많은 경계 상자 후보가 주어졌을 때 각 상자의 내용을 분류하는) 분류 문제로 표현되거나, 경계 상자의 좌표를 벡터 회귀로 예측하는 회귀와 분류가 결합된 문제로 표현할 수 있습니다.\n",
    "* 이미지 분할(image segmentaion): 사진이 주어졌을 때 픽셀 단위로 특정 물체에 마스킹(masking)을 합니다.\n",
    "\n",
    "### 4.1.2 비지도 학습(Unsupervised Learning)\n",
    "* 머신 러닝은 어떤 타깃도 사용하지 않고 입력 데이터에 대한 흥미로운 변환을 찾습니다. 데이터 시각화, 데이터 압축, 데이터의 노이즈 제거 또는 데이터에 있는 상관관계를 더 잘 이해하기 위해 사용합니다. 비지도 학습(Unsupervised Learning)은 데이터 분석에서 빼놓을 수 없는 요소이며, 종종 지도 학습 문제를 풀기 전에 데이터셋을 잘 이해하기 위해 필수적으로 거치는 단계입니다. 차원 축소(Dimensionality Reduction)와 군집(Clustering)이 비지도 학습에서 잘 알려진 범주입니다.\n",
    "\n",
    "### 4.1.3 자기 지도 학습(Self-Supervised Learning)\n",
    "* 자기 지도 학습(Self-Supervised Learning)은 지도 학습의 특별한 경우이지만 별도의 범주로 할 만큼 충분히 다릅니다. 자기 지도 학습은 지도 학습이지만 사람이 만든 레이블을 사용하지 않습니다. 즉 학습 과정에 사람이 개입하지 않는 지도 학습이라고 생각할 수 있습니다. (학습이 무언가에 지도되어야 하므로) 레이블이 여전히 필요하지만 보통 경험적인 알고리즘을(heuristic algorithm)을 사용해서 입력 데이터로부터 생성합니다.\n",
    "* 예를 들어 오토인코더(AutoEncoder)가 잘 알려진 자기 지도 학습의 예입니다. 여기에서 생성된 타깃은 수정하지 않은 원본 입력입니다. 같은 방식으로 지난 프레임이 주어졌을 때 비디오의 다음 프레임을 예측하는 것이나, 이전 단어가 주어졌을 때 다음 단어를 예측하는 것이 자기 지도 학습의 예입니다(이 경우에는 미래의 입력 데이터로부터 지도되기 때문에 시간에 따른 지도 학습(temporally supervised learning)입니다). 지도 학습(Supervised Learning), 자기 지도 학습(Self-Supervised Learning), 비지도 학습(Unsupervised Learning)의 구분은 가끔 모호할 수 있습니다. 이 범주들은 명확한 경계가 없고 연속적입니다. 자기 지도 학습은 학습 메커니즘과 애플리케이션 측면 중 어디에 중점을 두는지에 따라 지도 학습 또는 비지도 학습으로 재해석 될 수 있습니다.\n",
    "\n",
    "★ Note: 지도 학습이 광범위한 산업계의 애플리케이션에 적용되어 오늘날 딥러닝의 대부분을 차지하고 있기 때문에 이 책에서는 특히 지도 학습에 집중하겠습니다. 책의 후반부에서 자기 지도 학습에 대해 잠깐 살펴봅시다.\n",
    "\n",
    "### 4.1.4 강화 학습(Reinforcement Learning)\n",
    "* 오랫동안 간과되었던 강화 학습(Reinforcement Learning)은 구글 딥마인드(DeepMind)가 아타리(Atari) 게임 플레이를 학습하는 데 성공적으로 적용하면서 최근에 많은 관심을 받기 시작했습니다(그 이후 최고 수준의 바둑 실력을 학습했습니다). 강화 학습에서 에이전트(agent)는 환경에 대한 정보를 받아 보상을 최대화하는 행동을 선택하도록 학습됩니다. 예를 들어 강화 학습으로 훈련된 신경망은 비디오 게임 화면을 입력으로 받고 게임 점수를 최대화하기 위한 게임 내의 행동을 출력할 수 있습니다.\n",
    "* 현재 강화 학습은 대부분 연구 영역에 속해 있고 게임 이외에 실제적인 성공 사례는 아직 없습니다.하지만 때가 되면 강화 학습이 실제 세상의 많은 애플리케이션을 대체할 것으로 기대하고 있습니다. 이런 애플리케이션에는 자율 주행 자동차, 자원 관리, 교육 등이 있습니다. 아마 그때가 왔거나 이제 곧 올 것입니다.\n",
    "\n",
    "★ Note <분류(Classification)와 회귀(Regression)에서 사용하는 용어>\n",
    "\n",
    "분류와 회귀에는 특별한 용어가 많습니다. 이전 예제에서 일부 용어를 보았고 앞으로 이어지는 장들에서 더 많이 등장합니다. 이런 용어들은 머신 러닝에 특화된 구체적인 정의를 가지므로 친숙해져야 합니다.\n",
    "* 샘플 또는 입력: 모델에 주입될 하나의 데이터 포인트\n",
    "* 예측 또는 출력: 모델로부터 나오는 값\n",
    "* 타깃: 정답. 외부 데이터 소스에 근거하여 모델이 완벽하게 예측해야 하는 값\n",
    "* 예측 오차 또는 손실 값:모델의 예측과 타깃 사이의 거리를 측정한 값\n",
    "* 클래스: 분류 문제에서 선택할 수 있는 가능한 레이블의 집합. 예를 들어 고양이와 강아지 사진을 분류할 때 클래스는 '고양이'와 '강아지' 2개입니다.\n",
    "* 레이블: 분류 문제에서 클래스 할당의 구체적인 사례. 예를 들어 사진 #1234에 '강아지' 클래스가 들어 있다고 표시한다면 '강아지'는 사진 #1234의 레이블이 됩니다.\n",
    "* 참 값(ground-truth) 또는 꼬리표(annotation): 데이터셋에 대한 모든 타깃. 일반적으로 사람에 의해 수집됩니다.\n",
    "* 이진 분류: 각 입력 샘플이 2개의 배타적인 범주로 구분되는 분류 작업\n",
    "* 다중 분류: 각 입력 샘플이 2개 이상의 범주로 구분되는 분류 작업. 예를 들어 손글씨 숫자 분류를 말합니다.\n",
    "* 다중 레이블 분류: 각 입력 샘플이 여러 개의 레이블에 할당될 수 있는 분류 작업. 예를 들어 하나의 이미지에 고양이와 강아지가 모두 들어 있을 때는 '고양이' 레이블과 '강아지' 레이블을 모두 할당해야 합니다. 보통 이미지마다 레이블의 개수는 다릅니다.\n",
    "* 스칼라 회귀: 타깃이 연속적인 스칼라 값인 작업. 주택 가격 예측이 좋은 예입니다. 각기 다른 타깃 가격이 연속적인 공간을 형성합니다.\n",
    "* 벡터 회귀: 타깃이 연속적인 값의 집합인 작업. 예를 들어 연속적인 값으로 이루어진 벡터입니다. (이미지에 있는 경계 상자의 좌표 같은) 여러 개의 값에 대한 회귀를 한다면 벡터 회귀입니다.\n",
    "* 미니 배치 또는 배치: 모델에 의해 동시에 처리되는 소량의 샘플 묶음(일반적으로 8개에서 128개 사이). 샘플 개수는 GPU의 메모리 할당이 용이하도록 2의 거듭제곱으로 하는 경우가 많습니다. 훈련할 때 미니 배치마다 한 번씩 모델의 가중치에 적용할 경사 하강법 업데이트 값을 계산합니다.\n",
    "\n",
    "\n",
    "## 4.2 머신 러닝 모델 평가\n",
    "* 3장에서 본 3개의 예제에서 데이터를 훈련 세트(Training Set), 검증 세트(Validation Set), 테스트 세트(Test Set)로 나누었습니다. 훈련에 사용된 동일한 데이터로 모델을 평가하지 않는 이유는 금방 드러났습니다. 몇 번의 에포크(Epoch) 후에 3개의 모델이 모두 **과대적합(Overfitting)**되기 시작했습니다. 즉 훈련 데이터의 성능에 비해 처음 본 데이터에 대한 성능이 좋아지지 않습니다(또는 더 나빠집니다). 반면에 훈련 데이터의 성능은 훈련이 진행될수록 항상 증가됩니다.\n",
    "* 머신 러닝의 목표는 처음 본 데이터에서 잘 작동하는 일반화된 모델을 얻는 것입니다. 여기에서 과대적합은 주요 장애물입니다. 관측할 수 있는 것만 제어할 수 있으므로 모델의 일반화 성능에 대한 신뢰할 수 있는 측정 방법이 아주 중요합니다. 다음 절에서 과대적합을 완화하고 일반화를 최대화하기 위한 전략을 살펴보겠습니다. 이 절에서는 일반화, 즉 머신 러닝 모델의 성능을 어떻게 측정하는지에 집중합니다.\n",
    "\n",
    "### 4.2.1 훈련, 검증, 테스트 세트\n",
    "* 모델 평가의 핵심은 가용한 데이터를 항상 훈련, 검증, 테스트 3개의 세트로 나누는 것입니다. 훈련 세트에서 모델을 훈련하고 검증 세트에서 모델을 평가합니다. 모델을 출시할 준비가 되면 테스트 세트에서 최종적으로 딱 한 번 모델을 테스트합니다.\n",
    "* 훈련 세트와 테스트 세트 2개를 사용하면 어떨까요? 훈련 세트에서 훈련하고 테스트 세트에서 평가하는 것이죠.\n",
    "* 이렇게 하지 않는 이유는 모델을 개발할 때 항상 모델의 설정을 튜닝하기 때문입니다. 예를 들어 층의 수난 층의 유닛 수를 선택합니다(이런 파라미터를 네트워크의 가중치와 구분하기 위해 하이퍼파라미터(hyperparameter)라고 부릅니다). 검증 세트에서 모델의 성능을 평가하여 이런 튜닝을 수행합니다. 본질적으로 이런 튜닝도 어떤 파라미터 공간에서 좋은 설정을 찾는 학습입니다. 결국 검증 세트의 성능을 기반으로 모델의 설정을 튜닝하면 검증 세트로 모델을 직접 훈련하지 않더라도 빠르게 검증 세트에 과대적합될 수 있습니다.\n",
    "* 이 현상의 핵심은 정보 누설(information leak) 개념에 있습니다. 검증 세트의 모델 성능에 기반하여 모델의 하이퍼파라미터를 조정할 때마다 검증 데이터에 관한 정보가 모델로 새는 것입니다. 하나의 파라미터에 대해서 단 한 번만 튜닝한다면 아주 적은 정보가 누설됩니다. 이런 검증 세트로는 모델을 평가할 만합니다. 하지만 한 번 튜닝하고 나서 검증 세트에 평가한 결과를 가지고 다시 모델을 조정하는 과정을 여러 번 반복하면, 검증 세트에 관한 정보를 모델에 아주 많이 노출시키게 됩니다.\n",
    "* 검증 데이터에 맞추어 최적화했기 때문에 검증 데이터에 의도적으로 잘 수행되는 모델이 만들어집니다. 검증 데이터가 아니고 완전히 새로운 데이터에 대한 성능이 관심 대상이라면 모델을 평가하기 위해 이전에 본 적 없는 완전히 다른 데이터셋을 사용해야 합니다. 바로 테스트 세트입니다. 모델은 간접적으로라도 테스트 세트에 대한 어떤 정보도 얻어서는 안 됩니다. 테스트 세트 성능에 기초하여 튜닝한 모델의 모든 설정은 일반화 성능을 왜곡시킬 것입니다.\n",
    "* 데이터를 훈련, 검증, 테스트 세트로 나누는 것은 간단해 보일 수 있지만 데이터가 적을 때는 몇 가지 고급 기법을 사용하면 도움이 됩니다. 대표적인 세 가지 평가 방법인 단순 홀드아웃 검증(hold-out validation), K-겹 교차 검증(K-fold cross-validation), 셔플링(shuffling)을 사용한 반복 K-겹 교차 검증(iterated K-fold cross-validation)을 살펴보겠습니다.\n",
    "\n",
    "**단순 홀드아웃 검증**\n",
    "* 데이터의 일정량을 테스트 세트로 떼어 놓고, 남은 데이터에서 훈련하고 테스트 세트로 평가합니다. 앞 절에서 설명했듯이 정보 누설을 막기 위해 테스트 세트를 사용해 모델을 튜닝해서는 안 됩니다. 이런 이유로 검증 세트도 따로 떼어 놓아야 합니다."
   ]
  },
  {
   "cell_type": "code",
   "execution_count": null,
   "metadata": {},
   "outputs": [],
   "source": [
    "import numpy as np\n",
    "# 홀드아웃 검증 구현 예\n",
    "# 데이터 로드하기\n",
    "num_validation_samples = 10000\n",
    "# 데이터를 섞는 것(셔플링)이 일반적으로 좋습니다.\n",
    "np.random.shuffle(data)\n",
    "# 검증 세트를 만듭니다.\n",
    "validation_data = data[:num_validation_samples]\n",
    "data = data[num_validation_samples:]\n",
    "\n",
    "# 훈련 세트를 만듭니다.\n",
    "training_data = data[:]\n",
    "\n",
    "# 훈련 세트에서 모델을 훈련하고 검증 세트로 평가합니다.\n",
    "model = get_model()\n",
    "model.train(training_data)\n",
    "validation_score = model.evaluate(validation_data)\n",
    "\n",
    "# 여기에서 모델을 튜닝하고,\n",
    "# 다시 훈련하고, 평가하고, 또 다시 튜닝하고, 훈련하고, 평가하고...\n",
    "# 하이퍼파라미터 튜닝이 끝나면 테스트 데이터를 제외한 \n",
    "# 모든 데이터를 사용하여 모델을 다시 훈련시킵니다.\n",
    "model = get_model()\n",
    "model.train(np.concatenate([training_data,\n",
    "                            validation_data]))\n",
    "# 평가 점수\n",
    "test_score = model.evaluate(test_data)"
   ]
  },
  {
   "cell_type": "markdown",
   "metadata": {},
   "source": [
    "* 이 평가 방법은 단순해서 한 가지 단점이 있습니다. 데이터가 적을 때는 검증 세트와 테스트 세트의 샘플이 너무 적어 주어진 전체 데이터를 통계적으로 대표하지 못할 수 있습니다. 쉽게 이를 확인할 수 있습니다. 다른 난수 초깃값으로 셔플링해서 데이터를 나누었을 때 모델의 성능이 매우 달라지면 바로 이 문제입니다. 다음에 이야기할 K-겹 교차 검증과 반복 K-겹 교차 검증이 이 문제를 해결할 수 있습니다.\n",
    "\n",
    "**K-겹 교차 검증(K-fold cross-validation)**\n",
    "* 이 방식에서는 데이터를 동일한 크기를 가진 K개 분할로 나눕니다. 각 분할 i에 대해 남은 K - 1개의 분할로 모델을 훈련하고 분할 i에서 분할을 평가합니다. 최종 점수는 이렇게 얻은 K개의 점수를 평균합니다. 이 방법은 모델의 성능이 데이터 분할에 따라 편차가 클 때 도움이 됩니다. 홀드 아웃 검증처럼 이 방법은 모델의 튜닝에 별개의 검증 세트를 사용하게 됩니다."
   ]
  },
  {
   "cell_type": "code",
   "execution_count": null,
   "metadata": {},
   "outputs": [],
   "source": [
    "# K-겹 교차 검증 구현 예\n",
    "# K-겹 교차 검증은 사이킷런(Scikit-learn)의 cross_validate() 함수를 사용하여\n",
    "# 쉽게 구할 수 있습니다. 이 함수를 사용하려면 케라스 모델을 사이킷런과 호환되도록\n",
    "# KerasClassifier나 KerasRegressor 클래스로 모델을 감싸야 합니다.\n",
    "k = 4\n",
    "num_validation_samples = len(data) // k\n",
    "# 데이터를 섞는 것이 일반적으로 좋습니다.\n",
    "np.random.shuffle(data)\n",
    "\n",
    "validation_scores = []\n",
    "for fold in range(k):\n",
    "    # 검증 데이터 부분을 선택합니다.\n",
    "    validation_data = data[num_validation_samples * fold:\n",
    "      num_validation_samples * (fold + 1)]\n",
    "    # 남은 데이터를 훈련 데이터로 사용합니다.\n",
    "    # 리스트에서 '+' 연산자는 두 리스트를 더하는 것이 아니고 연결합니다.\n",
    "    training_data = data[:num_validation_samples * fold] +\n",
    "      data[num_validation_samples * (fold + 1):]\n",
    "    # 훈련되지 않은 새로운 모델을 만듭니다.\n",
    "    model = get_model()\n",
    "    model.train(training_data)\n",
    "    validation_score = model.evaluate(validation_data)\n",
    "    validation_scores.append(validation_score)\n",
    "# 검증 점수: K개 폴드의 검증 점수 평균    \n",
    "validation_score = np.average(validation_scores)\n",
    "# 테스트 데이터를 제외한 전체 데이터로 최종 모델을 훈련합니다.\n",
    "model = get_model()\n",
    "model.train(data)\n",
    "test_score = model.evaluate(test_data)"
   ]
  },
  {
   "cell_type": "markdown",
   "metadata": {},
   "source": [
    "**셔플링을 사용한 반복 K-겹 교차 검증(Iterated K-fold cross validation using shuffling)**\n",
    "* 이 방법은 비교적 가용 데이터가 적고 가능한 정확하게 모델을 평가하고자 할 때 사용합니다. 케글 경연에서는 이 방법이 아주 크게 도움이 됩니다. 이 방법은 K-겹 교차 검증을 여러 번 적용하되 K개의 분할로 나누기 전에 매번 데이터를 무작위로 섞습니다. 최종 점수는 모든 K-겹 교차 검증을 실행해서 얻은 점수의 평균이 됩니다. 결국 P X K개(P는 반복 횟수)의 모델을 훈련하고 평가하므로 비용이 매우 많이 듭니다."
   ]
  },
  {
   "cell_type": "markdown",
   "metadata": {},
   "source": [
    "## 4.3 데이터 전처리, 특성 공학, 특성 학습\n",
    "\n",
    "### 4.3.1 신경망을 위한 데이터 전처리\n",
    "* 데이터 전처리 목적은 주어진 원본 데이터를 신경망에 적용하기 쉽도록 만드는 것입니다. 벡터화(vectorization), 정규화(normalization), 누락된 값 다루기, 특성 추출 등이 포함됩니다.\n",
    "\n",
    "**벡터화(vectorization)**\n",
    "* 신경망에서 모든 입력과 타깃은 부동 소수 데이터로 이루어진 텐서(tensor)여야 합니다(또는 특정 경우에 정수로 이루어진 텐서입니다). 사운드, 이미지, 텍스트 등 처리해야 할 것이 무엇이든지 먼저 텐서로 변환해야 합니다. 이 단계를 데이터 벡터화(data vectorization)라고 합니다.\n",
    "* 예를 들어 이전에 나온 2개의 텍스트 분류 예에서 텍스트를 (단어 시퀀스를 의미하는) 정수 리스트로 변환했습니다. 그다음 원-핫 인코딩을 사용하여 float32 타입의 데이터로 이루어진 텐서로 바꾸었습니다. 숫자 이미지 분류와 주택 가격 예측의 예에서는 이미 데이터가 벡터 형태로 주어졌으므로 이 단계를 건너뛰었습니다.\n",
    "\n",
    "**값 정규화(Normalize values)**\n",
    "\n",
    "* 숫자 이미지 분류 예에서 이미지 데이터를 그레이스케일 인코딩인 `0~255` 사이의 정수로 인코딩했습니다. 이 데이터를 네트워크에 주입하기 전에 float32 타입으로 변경하고 255로 나누어서 최종적으로 `0~1` 사이의 부동 소수 값으로 만들었습니다. 주택 가격을 예측할 때는 특성들의 범위가 제각각이었습니다. 어떤 특성은 작은 부동 소수 값이고 다른 특성은 매우 큰 정수 값을 가졌습니다. 이 데이터를 네트워크에 주입하기 전에 각 특성을 독립적으로 정규화하여 평균이 0이고 표준 편차가 1이 되도록 만들었습니다.\n",
    "* 일반적으로 비교적 큰 값(예를 들어 네트워크의 가중치 초깃값보다 훨씬 큰 여러 자릿수를 가진 정수)이나 균일하지 않은 데이터(예를 들어 한 특성의 범위는 `0~1`이고 다른 특성은 `100~200`인 데이터)를 신경망에 주입하는 것은 위험합니다. 이렇게 하면 업데이트할 그래디언트가 커져 네트워크가 수렴하는 것을 방해합니다. 네트워크를 쉽게 학습시키려면 데이터가 다음 특징을 따라야 합니다.\n",
    "    * 작은 값을 취합니다. 일반적으로 대부분의 값이 0~1 사이여야 합니다.\n",
    "    * 균일해야 합니다. 즉 모든 특성이 대체로 비슷한 범위를 가져야 합니다.\n",
    "\n",
    "* 추가적으로 다음에 나오는 엄격한 정규화 방법은 꼭 필수적이지는 않지만(예를 들어 숫자 이미지 분류 예에서는 사용하지 않았습니다) 자주 사용되고 도움이 될 수 있습니다.\n",
    "    * 각 특성별로 평균이 0이 되도록 정규화합니다.\n",
    "    * 각 특성별로 표준 편차가 1이 되도록 정규화합니다.\n",
    "* 넘파이 배열에서 하는 방법은 간단합니다.\n",
    "    * x -= x.mean(axis=0)\n",
    "    * x /= x.std(axis=0)"
   ]
  },
  {
   "cell_type": "markdown",
   "metadata": {},
   "source": [
    "## 4.4 과대적합과 과소적합(Overfitting and Underfitting)\n",
    "\n",
    "* 머신 러닝의 근본적인 이슈는 최적화와 일반화 사이의 줄다리기입니다. 최적화(Optimization)는 가능한 훈련 데이터에서 최고의 성능을 얻으려고 모델을 조정하는 과정입니다(머신 러닝의 학습). 반면에 일반화(generalization)는 훈련된 모델이 이전에 본 적 없는 데이터에서 얼마나 잘 수행되는지 의미합니다. 물론 모델을 만드는 목적은 좋은 일반환 성능을 얻는 것입니다. 하지만 일반화 성능을 제어할 방법이 없습니다. 단지 훈련 데이터를 기반으로 모델을 조정할 수만 있습니다.\n",
    "* 훈련 초기에 최적화와 일반화는 상호 연관되어 있습니다. 훈련 데이터의 손실이 낮아질수록 테스트 데이터의 손실도 낮아집니다. 이런 상황이 발생할 때 모델이 과소적합(underfitting) 되었다고 말합니다. 모델의 성능이 계속 발전될 여지가 있습니다. 즉 네트워크가 훈련 데이터에 있는 관련 특성을 모두 학습하지 못했습니다.\n",
    "* 하지만 훈련 데이터에 여러 번 반복 학습하고 나면 어느 시점부터 일반화 성능이 더 이상 높아지지 않습니다. 검증 세트의 성능이 멈추고 감소되기 시작합니다. 즉 모델이 과대적합되기 시작합니다. 이는 훈련 데이터에 특화된 패턴을 학습하기 시작했다는 의미입니다. 이 패턴은 새로운 데이터와 연관성이 적어 잘못된 판단을 하게 만듭니다.\n",
    "\n",
    "### 4.4.1 네트워크 크기 축소\n",
    "* 과대적합(Overfitting)을 막는 가장 단순한 방법은 모델의 크기, 즉 모델에 있는 학습 파라미터의 수를 줄이는 것입니다. 파라미터의 수는 층의 수와 각 층의 유닛 수에 의해 결정됩니다. 딥러닝에서 모델에 있는 학습 파라미터의 수를 종종 모델의 용량(capacity)이라고 말합니다. 당연하게 파라미터가 많은 모델이 기억 용량이 더 많습니다. 훈련 샘플과 타깃 사이를 딕셔너리 같은 일대일 매핑으로 완벽하게 학습할 수도 있습니다. 이런 매핑은 일반화 능력이 없습니다. 예를 들어 50만 개의 이진 파라미터가 있는 모델은 MNIST 훈련 세트의 숫자 이미지 클래스를 모두 쉽게 학습할 수 있습니다.\n",
    "* 5만 개의 숫자 이미지 하나마다 10개의 이진 파라미터만 있으면 됩니다. 하지만 이런 모델은 새로운 숫자 샘플을 분류하는 용도로는 쓸모가 없습니다. 항상 유념해야 할 것은 딥러닝 모델은 훈련 데이터에 잘 맞추려는 경향이 있다는 점입니다. 하지만 진짜 문제는 최적화가 아니고 일반화입니다.\n",
    "* 다른 한편으로 네트워크가 기억 용량에 제한이 있다면 이런 매핑을 쉽게 학습하지 못할 것입니다. 따라서 손실을 최소화하기 위해 타깃에 대한 예측 성능을 가진 압축된 표현을 학습해야 합니다. 정확히 이런 표현이 우리 관심 대상입니다. 동시에 기억해야 할 것은 과소적합되지 않도록 충분한 파라미터를 가진 모델을 사용해야 한다는 점입니다. 모델의 기억 용량이 부족해서는 안 됩니다. 너무 많은 용량과 충분하지 않은 용량 사이의 절충점을 찾아야 합니다.\n",
    "* 안타깝지만 알맞은 층의 수나 각 층의 유닛 수를 결정할 수 있는 마법 같은 공식은 없습니다. 데이터에 알맞은 모델 크기를 찾으려면 각기 다른 구조를 평가해 보아야 합니다. 적절한 모델 크기를 찾는 일반적인 작업 흐름은 비교적 적은 수의 층과 파라미터로 시작합니다. 그다음 검증 손실이 감소되기 시작할 때까지 층이나 유닛의 수를 늘리는 것입니다.\n",
    "\n",
    "※ 3장 5절에 있는 코드를 사용해 데이터를 준비합니다."
   ]
  },
  {
   "cell_type": "code",
   "execution_count": 1,
   "metadata": {},
   "outputs": [
    {
     "name": "stderr",
     "output_type": "stream",
     "text": [
      "<__array_function__ internals>:5: VisibleDeprecationWarning: Creating an ndarray from ragged nested sequences (which is a list-or-tuple of lists-or-tuples-or ndarrays with different lengths or shapes) is deprecated. If you meant to do this, you must specify 'dtype=object' when creating the ndarray\n",
      "C:\\Users\\wnstj\\AppData\\Roaming\\Python\\Python38\\site-packages\\tensorflow\\python\\keras\\datasets\\imdb.py:159: VisibleDeprecationWarning: Creating an ndarray from ragged nested sequences (which is a list-or-tuple of lists-or-tuples-or ndarrays with different lengths or shapes) is deprecated. If you meant to do this, you must specify 'dtype=object' when creating the ndarray\n",
      "  x_train, y_train = np.array(xs[:idx]), np.array(labels[:idx])\n",
      "C:\\Users\\wnstj\\AppData\\Roaming\\Python\\Python38\\site-packages\\tensorflow\\python\\keras\\datasets\\imdb.py:160: VisibleDeprecationWarning: Creating an ndarray from ragged nested sequences (which is a list-or-tuple of lists-or-tuples-or ndarrays with different lengths or shapes) is deprecated. If you meant to do this, you must specify 'dtype=object' when creating the ndarray\n",
      "  x_test, y_test = np.array(xs[idx:]), np.array(labels[idx:])\n"
     ]
    }
   ],
   "source": [
    "# 데이터 준비\n",
    "from keras.datasets import imdb\n",
    "import numpy as np\n",
    "\n",
    "(train_data, train_labels), (test_data, test_labels) = imdb.load_data(num_words=10000)\n",
    "\n",
    "def vectorize_sequences(sequences, dimension=10000):\n",
    "    # 크기가 (len(sequences), dimension))이고 모든 원소가 0인 행렬을 만듭니다\n",
    "    results = np.zeros((len(sequences), dimension))\n",
    "    for i, sequence in enumerate(sequences):\n",
    "        results[i, sequence] = 1.  # results[i]에서 특정 인덱스의 위치를 1로 만듭니다\n",
    "    return results\n",
    "\n",
    "# 훈련 데이터를 벡터로 변환합니다\n",
    "x_train = vectorize_sequences(train_data)\n",
    "# 테스트 데이터를 벡터로 변환합니다\n",
    "x_test = vectorize_sequences(test_data)\n",
    "# 레이블을 벡터로 변환합니다\n",
    "y_train = np.asarray(train_labels).astype('float32')\n",
    "y_test = np.asarray(test_labels).astype('float32')"
   ]
  },
  {
   "cell_type": "code",
   "execution_count": 2,
   "metadata": {},
   "outputs": [],
   "source": [
    "# 원본 모델(Original Model)\n",
    "from keras import models\n",
    "from keras import layers\n",
    "\n",
    "original_model = models.Sequential()\n",
    "original_model.add(layers.Dense(16, activation='relu', input_shape=(10000,)))\n",
    "original_model.add(layers.Dense(16, activation='relu'))\n",
    "original_model.add(layers.Dense(1, activation='sigmoid'))\n",
    "\n",
    "original_model.compile(optimizer='rmsprop',\n",
    "                       loss='binary_crossentropy',\n",
    "                       metrics=['acc'])"
   ]
  },
  {
   "cell_type": "markdown",
   "metadata": {},
   "source": [
    "* 더 작은 네트워크로 바꾸어 보죠."
   ]
  },
  {
   "cell_type": "code",
   "execution_count": 3,
   "metadata": {},
   "outputs": [],
   "source": [
    "from keras import models\n",
    "from keras import layers\n",
    "# 작은 용량의 모델(smaller model)\n",
    "smaller_model = models.Sequential()\n",
    "smaller_model.add(layers.Dense(6, activation='relu', input_shape=(10000,)))\n",
    "smaller_model.add(layers.Dense(6, activation='relu'))\n",
    "smaller_model.add(layers.Dense(1, activation='sigmoid'))\n",
    "\n",
    "smaller_model.compile(optimizer='rmsprop',\n",
    "                      loss='binary_crossentropy',\n",
    "                      metrics=['acc'])"
   ]
  },
  {
   "cell_type": "code",
   "execution_count": 4,
   "metadata": {},
   "outputs": [
    {
     "name": "stdout",
     "output_type": "stream",
     "text": [
      "Epoch 1/20\n",
      "49/49 [==============================] - 26s 484ms/step - loss: 0.5716 - acc: 0.7476 - val_loss: 0.3678 - val_acc: 0.8664\n",
      "Epoch 2/20\n",
      "49/49 [==============================] - 6s 133ms/step - loss: 0.2930 - acc: 0.9012 - val_loss: 0.3063 - val_acc: 0.8771\n",
      "Epoch 3/20\n",
      "49/49 [==============================] - 4s 91ms/step - loss: 0.2114 - acc: 0.9258 - val_loss: 0.2807 - val_acc: 0.8894\n",
      "Epoch 4/20\n",
      "49/49 [==============================] - 5s 96ms/step - loss: 0.1684 - acc: 0.9448 - val_loss: 0.2961 - val_acc: 0.8824\n",
      "Epoch 5/20\n",
      "49/49 [==============================] - 4s 76ms/step - loss: 0.1455 - acc: 0.9511 - val_loss: 0.3198 - val_acc: 0.8774\n",
      "Epoch 6/20\n",
      "49/49 [==============================] - 4s 78ms/step - loss: 0.1218 - acc: 0.9617 - val_loss: 0.3292 - val_acc: 0.8756\n",
      "Epoch 7/20\n",
      "49/49 [==============================] - 4s 77ms/step - loss: 0.1091 - acc: 0.9650 - val_loss: 0.3467 - val_acc: 0.8742\n",
      "Epoch 8/20\n",
      "49/49 [==============================] - 4s 77ms/step - loss: 0.0947 - acc: 0.9712 - val_loss: 0.3726 - val_acc: 0.8727\n",
      "Epoch 9/20\n",
      "49/49 [==============================] - 4s 81ms/step - loss: 0.0861 - acc: 0.9725 - val_loss: 0.3986 - val_acc: 0.8692\n",
      "Epoch 10/20\n",
      "49/49 [==============================] - 4s 90ms/step - loss: 0.0722 - acc: 0.9779 - val_loss: 0.4271 - val_acc: 0.8650\n",
      "Epoch 11/20\n",
      "49/49 [==============================] - 5s 104ms/step - loss: 0.0615 - acc: 0.9816 - val_loss: 0.4540 - val_acc: 0.8642\n",
      "Epoch 12/20\n",
      "49/49 [==============================] - 4s 75ms/step - loss: 0.0568 - acc: 0.9835 - val_loss: 0.4907 - val_acc: 0.8621\n",
      "Epoch 13/20\n",
      "49/49 [==============================] - 4s 77ms/step - loss: 0.0452 - acc: 0.9893 - val_loss: 0.5180 - val_acc: 0.8606\n",
      "Epoch 14/20\n",
      "49/49 [==============================] - 3s 67ms/step - loss: 0.0374 - acc: 0.9908 - val_loss: 0.6136 - val_acc: 0.8431\n",
      "Epoch 15/20\n",
      "49/49 [==============================] - 2s 50ms/step - loss: 0.0312 - acc: 0.9924 - val_loss: 0.5898 - val_acc: 0.8550\n",
      "Epoch 16/20\n",
      "49/49 [==============================] - 3s 59ms/step - loss: 0.0256 - acc: 0.9936 - val_loss: 0.6633 - val_acc: 0.8547\n",
      "Epoch 17/20\n",
      "49/49 [==============================] - 3s 57ms/step - loss: 0.0225 - acc: 0.9943 - val_loss: 0.6960 - val_acc: 0.8535\n",
      "Epoch 18/20\n",
      "49/49 [==============================] - 3s 56ms/step - loss: 0.0162 - acc: 0.9969 - val_loss: 0.7607 - val_acc: 0.8498\n",
      "Epoch 19/20\n",
      "49/49 [==============================] - 3s 53ms/step - loss: 0.0138 - acc: 0.9973 - val_loss: 0.7542 - val_acc: 0.8526\n",
      "Epoch 20/20\n",
      "49/49 [==============================] - 2s 46ms/step - loss: 0.0106 - acc: 0.9983 - val_loss: 0.7958 - val_acc: 0.8524\n"
     ]
    }
   ],
   "source": [
    "original_model_hist = original_model.fit(x_train, y_train,\n",
    "                                         epochs=20,\n",
    "                                         batch_size=512,\n",
    "                                         validation_data=(x_test, y_test))"
   ]
  },
  {
   "cell_type": "code",
   "execution_count": 22,
   "metadata": {},
   "outputs": [
    {
     "name": "stdout",
     "output_type": "stream",
     "text": [
      "Epoch 1/20\n",
      "49/49 [==============================] - 20s 374ms/step - loss: 0.5772 - acc: 0.7533 - val_loss: 0.3941 - val_acc: 0.8729\n",
      "Epoch 2/20\n",
      "49/49 [==============================] - 5s 108ms/step - loss: 0.3309 - acc: 0.9003 - val_loss: 0.3197 - val_acc: 0.8830\n",
      "Epoch 3/20\n",
      "49/49 [==============================] - 2s 46ms/step - loss: 0.2491 - acc: 0.9187 - val_loss: 0.2864 - val_acc: 0.8907\n",
      "Epoch 4/20\n",
      "49/49 [==============================] - 2s 39ms/step - loss: 0.2011 - acc: 0.9330 - val_loss: 0.2787 - val_acc: 0.8898\n",
      "Epoch 5/20\n",
      "49/49 [==============================] - 2s 43ms/step - loss: 0.1747 - acc: 0.9434 - val_loss: 0.2826 - val_acc: 0.8875\n",
      "Epoch 6/20\n",
      "49/49 [==============================] - 2s 40ms/step - loss: 0.1508 - acc: 0.9494 - val_loss: 0.2896 - val_acc: 0.8861\n",
      "Epoch 7/20\n",
      "49/49 [==============================] - 2s 43ms/step - loss: 0.1398 - acc: 0.9544 - val_loss: 0.3028 - val_acc: 0.8830\n",
      "Epoch 8/20\n",
      "49/49 [==============================] - 2s 39ms/step - loss: 0.1229 - acc: 0.9585 - val_loss: 0.3291 - val_acc: 0.8755\n",
      "Epoch 9/20\n",
      "49/49 [==============================] - 2s 42ms/step - loss: 0.1122 - acc: 0.9636 - val_loss: 0.3512 - val_acc: 0.8704\n",
      "Epoch 10/20\n",
      "49/49 [==============================] - 2s 41ms/step - loss: 0.1045 - acc: 0.9676 - val_loss: 0.3477 - val_acc: 0.8738\n",
      "Epoch 11/20\n",
      "49/49 [==============================] - 2s 42ms/step - loss: 0.0908 - acc: 0.9736 - val_loss: 0.3679 - val_acc: 0.8701\n",
      "Epoch 12/20\n",
      "49/49 [==============================] - 2s 38ms/step - loss: 0.0839 - acc: 0.9748 - val_loss: 0.3922 - val_acc: 0.8668\n",
      "Epoch 13/20\n",
      "49/49 [==============================] - 3s 54ms/step - loss: 0.0824 - acc: 0.9757 - val_loss: 0.4043 - val_acc: 0.8662\n",
      "Epoch 14/20\n",
      "49/49 [==============================] - 2s 48ms/step - loss: 0.0739 - acc: 0.9795 - val_loss: 0.4413 - val_acc: 0.8598\n",
      "Epoch 15/20\n",
      "49/49 [==============================] - 2s 50ms/step - loss: 0.0673 - acc: 0.9814 - val_loss: 0.4470 - val_acc: 0.8640\n",
      "Epoch 16/20\n",
      "49/49 [==============================] - 2s 44ms/step - loss: 0.0616 - acc: 0.9843 - val_loss: 0.4675 - val_acc: 0.8605\n",
      "Epoch 17/20\n",
      "49/49 [==============================] - 2s 47ms/step - loss: 0.0583 - acc: 0.9848 - val_loss: 0.4913 - val_acc: 0.8584\n",
      "Epoch 18/20\n",
      "49/49 [==============================] - 2s 44ms/step - loss: 0.0510 - acc: 0.9871 - val_loss: 0.5115 - val_acc: 0.8598\n",
      "Epoch 19/20\n",
      "49/49 [==============================] - 2s 42ms/step - loss: 0.0455 - acc: 0.9903 - val_loss: 0.5416 - val_acc: 0.8523\n",
      "Epoch 20/20\n",
      "49/49 [==============================] - 3s 51ms/step - loss: 0.0427 - acc: 0.9904 - val_loss: 0.5583 - val_acc: 0.8554\n"
     ]
    }
   ],
   "source": [
    "smaller_model_hist = smaller_model.fit(x_train, y_train,\n",
    "                                       epochs=20,\n",
    "                                       batch_size=512,\n",
    "                                       validation_data=(x_test, y_test))"
   ]
  },
  {
   "cell_type": "code",
   "execution_count": 24,
   "metadata": {},
   "outputs": [],
   "source": [
    "epochs = range(1, 21)\n",
    "original_model_val_loss = original_model_hist.history['val_loss']\n",
    "smaller_model_val_loss = smaller_model_hist.history['val_loss']"
   ]
  },
  {
   "cell_type": "code",
   "execution_count": 26,
   "metadata": {},
   "outputs": [
    {
     "data": {
      "image/png": "[encoded data removed]",
      "text/plain": [
       "<Figure size 432x288 with 1 Axes>"
      ]
     },
     "metadata": {
      "needs_background": "light"
     },
     "output_type": "display_data"
    }
   ],
   "source": [
    "import matplotlib.pyplot as plt\n",
    "# 'b+' 는 파란색 덧셈 기호를 의미합니다.\n",
    "plt.plot(epochs, original_model_val_loss, 'b+', label='Original model')\n",
    "# 'bo' 는 파란색 점을 의미합니다.\n",
    "plt.plot(epochs, smaller_model_val_loss, 'bo', label='Smaller model')\n",
    "plt.title('Validation loss')\n",
    "plt.xlabel('Epochs')\n",
    "plt.ylabel('Validation Loss')\n",
    "plt.legend()\n",
    "plt.show()"
   ]
  },
  {
   "cell_type": "markdown",
   "metadata": {},
   "source": [
    "[검증 손실에 대한 모델 용량의 효과: 작은 용량의 모델과 비교(Effectiveness of model capacity about validation losses: compared to smaller capacity models)]\n",
    "\n",
    "* 여기서 볼 수 있듯이 작은 네크워크가 기본 네트워크보다 더 나중에 과대적합되기 시작했습니다(네 번째 에포크가 아니라 여섯 번째 에포크에서). 과대적합이 시작되었을때 성능이 더 천천히 감소했습니다.\n",
    "* 이번에는 문제에 필요한 것보다 훨씬 더 많은 용량을 가진 네트워크를 비교해 보겠습니다."
   ]
  },
  {
   "cell_type": "code",
   "execution_count": 5,
   "metadata": {},
   "outputs": [],
   "source": [
    "# 큰 용량의 모델(Bigger model)\n",
    "\n",
    "bigger_model = models.Sequential()\n",
    "bigger_model.add(layers.Dense(1024, activation='relu', input_shape=(10000,)))\n",
    "bigger_model.add(layers.Dense(1024, activation='relu'))\n",
    "bigger_model.add(layers.Dense(1, activation='sigmoid'))\n",
    "\n",
    "bigger_model.compile(optimizer='rmsprop',\n",
    "                      loss='binary_crossentropy',\n",
    "                      metrics=['acc'])"
   ]
  },
  {
   "cell_type": "code",
   "execution_count": 6,
   "metadata": {},
   "outputs": [
    {
     "name": "stdout",
     "output_type": "stream",
     "text": [
      "Epoch 1/20\n",
      "49/49 [==============================] - 77s 2s/step - loss: 0.7743 - acc: 0.7015 - val_loss: 0.2818 - val_acc: 0.8893\n",
      "Epoch 2/20\n",
      "49/49 [==============================] - 66s 1s/step - loss: 0.2317 - acc: 0.9116 - val_loss: 0.3443 - val_acc: 0.8687\n",
      "Epoch 3/20\n",
      "49/49 [==============================] - 94s 2s/step - loss: 0.1245 - acc: 0.9523 - val_loss: 0.3856 - val_acc: 0.8792\n",
      "Epoch 4/20\n",
      "49/49 [==============================] - 86s 2s/step - loss: 0.0354 - acc: 0.9908 - val_loss: 0.4202 - val_acc: 0.8816\n",
      "Epoch 5/20\n",
      "49/49 [==============================] - 77s 2s/step - loss: 0.0049 - acc: 0.9995 - val_loss: 2.2745 - val_acc: 0.6778\n",
      "Epoch 6/20\n",
      "49/49 [==============================] - 71s 1s/step - loss: 0.0795 - acc: 0.9803 - val_loss: 0.6339 - val_acc: 0.8821\n",
      "Epoch 7/20\n",
      "49/49 [==============================] - 77s 2s/step - loss: 0.0627 - acc: 0.9948 - val_loss: 0.5175 - val_acc: 0.8809\n",
      "Epoch 8/20\n",
      "49/49 [==============================] - 74s 2s/step - loss: 3.7561e-04 - acc: 1.0000 - val_loss: 0.7047 - val_acc: 0.8793\n",
      "Epoch 9/20\n",
      "49/49 [==============================] - 68s 1s/step - loss: 3.2197e-05 - acc: 1.0000 - val_loss: 0.9232 - val_acc: 0.8737\n",
      "Epoch 10/20\n",
      "49/49 [==============================] - 94s 2s/step - loss: 4.3158e-06 - acc: 1.0000 - val_loss: 1.0063 - val_acc: 0.8807\n",
      "Epoch 11/20\n",
      "49/49 [==============================] - 78s 2s/step - loss: 5.0825e-07 - acc: 1.0000 - val_loss: 1.1535 - val_acc: 0.8808\n",
      "Epoch 12/20\n",
      "49/49 [==============================] - 93s 2s/step - loss: 7.9429e-08 - acc: 1.0000 - val_loss: 1.2432 - val_acc: 0.8814\n",
      "Epoch 13/20\n",
      "49/49 [==============================] - 89s 2s/step - loss: 2.7238e-08 - acc: 1.0000 - val_loss: 1.3213 - val_acc: 0.8814\n",
      "Epoch 14/20\n",
      "49/49 [==============================] - 92s 2s/step - loss: 1.3038e-08 - acc: 1.0000 - val_loss: 1.3662 - val_acc: 0.8806\n",
      "Epoch 15/20\n",
      "49/49 [==============================] - 67s 1s/step - loss: 8.0623e-09 - acc: 1.0000 - val_loss: 1.3894 - val_acc: 0.8808\n",
      "Epoch 16/20\n",
      "49/49 [==============================] - 65s 1s/step - loss: 6.1889e-09 - acc: 1.0000 - val_loss: 1.4078 - val_acc: 0.8810\n",
      "Epoch 17/20\n",
      "49/49 [==============================] - 68s 1s/step - loss: 5.2283e-09 - acc: 1.0000 - val_loss: 1.4246 - val_acc: 0.8806\n",
      "Epoch 18/20\n",
      "49/49 [==============================] - 64s 1s/step - loss: 4.2704e-09 - acc: 1.0000 - val_loss: 1.4366 - val_acc: 0.8806\n",
      "Epoch 19/20\n",
      "49/49 [==============================] - 60s 1s/step - loss: 3.8119e-09 - acc: 1.0000 - val_loss: 1.4480 - val_acc: 0.8803\n",
      "Epoch 20/20\n",
      "49/49 [==============================] - 69s 1s/step - loss: 3.2513e-09 - acc: 1.0000 - val_loss: 1.4568 - val_acc: 0.8802\n"
     ]
    }
   ],
   "source": [
    "bigger_model_hist = bigger_model.fit(x_train, y_train,\n",
    "                                       epochs=20,\n",
    "                                       batch_size=512,\n",
    "                                       validation_data=(x_test, y_test))"
   ]
  },
  {
   "cell_type": "code",
   "execution_count": 8,
   "metadata": {},
   "outputs": [
    {
     "data": {
      "image/png": "[encoded data removed]",
      "text/plain": [
       "<Figure size 432x288 with 1 Axes>"
      ]
     },
     "metadata": {
      "needs_background": "light"
     },
     "output_type": "display_data"
    }
   ],
   "source": [
    "epochs = range(1, 21)\n",
    "original_model_val_loss = original_model_hist.history['val_loss']\n",
    "bigger_model_val_loss = bigger_model_hist.history['val_loss']\n",
    "\n",
    "import matplotlib.pyplot as plt\n",
    "# 'b+' 는 파란색 덧셈 기호를 의미합니다.\n",
    "plt.plot(epochs, original_model_val_loss, 'b+', label='Original model')\n",
    "# 'bo' 는 파란색 점을 의미합니다.\n",
    "plt.plot(epochs, bigger_model_val_loss, 'bo', label='Bigger model')\n",
    "plt.title('Validation loss')\n",
    "plt.xlabel('Epochs')\n",
    "plt.ylabel('Validation Loss')\n",
    "plt.legend()\n",
    "plt.show()"
   ]
  },
  {
   "cell_type": "markdown",
   "metadata": {},
   "source": [
    "[검증 손실에 대한 모델 용량의 효과: 큰 용량의 모델과 비교(Effectiveness of model capacity about validation losses: compared to bigger capacity models)]\n",
    "\n",
    "* 용량이 큰 네트워크는 첫 번째 에포크 이후 거의 바로 과대적합이 시작되어 갈수록 더 심해집니다. 검증 손실도 매우 불안정합니다.\n",
    "* 다음은 두 네트워크의 훈련 손실입니다."
   ]
  },
  {
   "cell_type": "code",
   "execution_count": 11,
   "metadata": {},
   "outputs": [
    {
     "data": {
      "image/png": "[encoded data removed]",
      "text/plain": [
       "<Figure size 432x288 with 1 Axes>"
      ]
     },
     "metadata": {
      "needs_background": "light"
     },
     "output_type": "display_data"
    }
   ],
   "source": [
    "original_model_train_loss = original_model_hist.history['loss']\n",
    "bigger_model_train_loss = bigger_model_hist.history['loss']\n",
    "\n",
    "plt.plot(epochs, original_model_train_loss, 'b+', label='Original model')\n",
    "plt.plot(epochs, bigger_model_train_loss, 'bo', label='Bigger model')\n",
    "plt.xlabel('Epochs')\n",
    "plt.ylabel('Training loss')\n",
    "plt.legend()\n",
    "\n",
    "plt.show()"
   ]
  },
  {
   "cell_type": "markdown",
   "metadata": {},
   "source": [
    "### 4.4.2 가중치 규제 추가(add weight regularization)\n",
    "\n",
    "\n",
    "* 오캄의 면도날(Occam's razor) 이론을 알고 있을지 모르겠습니다. 어떤 것에 대한 두 가지의 설명이 있다면 더 적은 가정이 필요한 간다한 설명이 옳을 것이라는 이론입니다. 이 개념은 신경망으로 학습되는 모델에도 적용됩니다. 어떤 훈련 데이터와 네트워크 구조가 주어졌을 때 데이터를 설명할 수 있는 가중치 값의 집합은 여러 개(여러 개의 모델)입니다. 간단한 모델이 복잡한 모델보다 덜 과대적합될 가능성이 높습니다.\n",
    "* 여기에서 간단한 모델은 파라미터 값 분포의 엔트로피가 작은 모델입니다(또는 앞 절에서 본 것처럼 적은 수의 파라미터를 가진 모델입니다). 그러므로 과대적합을 완화하기 위한 일반적인 방법은 네트워크의 복잡도에 제한을 두어 가중치가 작은 값을 가지도록 강제하는 것입니다. 가중치 값의 분포가 더 균일하게 됩니다. 이를 **가중치 규제(weight regularization)**라고 하며, 네트워크의 손실 함수에 큰 가중치에 연관된 비용을 추가합니다. 두 가지 형태의 비용이 있습니다.\n",
    "    * L1 규제: 가중치의 절댓값에 비례하는 비용이 추가됩니다(가중치의 L1 노름(norm)).\n",
    "    * L2 규제: 가중치의 제곱에 비례하는 비용이 추가됩니다(가중치의 L2 노름, 유클리디안 노름(Euclidean norm)이라고도 부릅니다.). L2 규제는 신경망에서 **가중치 감쇠(weight decay)**라고도 부릅니다. 이름이 다르지만 혼동하지 마세요. 가중치 감쇠는 수학적으로 L2 규제와 동일합니다.\n",
    "* 케라스에서 가중치 규제 객체를 층의 키워드 매개변수로 전달하여 가중치 규제를 추가할 수 있습니다. 영화 리뷰 분류 네트워크에 L2 가중치 규제를 추가해 보죠."
   ]
  },
  {
   "cell_type": "code",
   "execution_count": 34,
   "metadata": {},
   "outputs": [],
   "source": [
    "# 모델에 L2 가중치 추가하기\n",
    "from keras import regularizers\n",
    "\n",
    "l2_model = models.Sequential()\n",
    "l2_model.add(layers.Dense(16, kernel_regularizer=regularizers.l2(0.001),\n",
    "                       activation='relu', input_shape=(10000,)))\n",
    "l2_model.add(layers.Dense(16, kernel_regularizer=regularizers.l2(0.001),\n",
    "                       activation='relu'))\n",
    "l2_model.add(layers.Dense(1, activation='sigmoid'))"
   ]
  },
  {
   "cell_type": "code",
   "execution_count": 35,
   "metadata": {},
   "outputs": [],
   "source": [
    "l2_model.compile(optimizer='rmsprop',\n",
    "                 loss='binary_crossentropy',\n",
    "                 metrics=['acc'])"
   ]
  },
  {
   "cell_type": "markdown",
   "metadata": {},
   "source": [
    "* `l2(0.001)` 는 가중치 행렬의 모든 원소를 제곱하고 `0.001`을 곱하여 네트워크의 전체 손실에 더해진다는 의미입니다. 이 페널티 항은 훈련할 때만 추가됩니다. 이 네트워크의 손실은 테스트보다 훈련할 때 더 높을 것입니다.\n",
    "* L2 규제 페널티의 효과를 확인해 보죠."
   ]
  },
  {
   "cell_type": "code",
   "execution_count": 36,
   "metadata": {},
   "outputs": [
    {
     "name": "stdout",
     "output_type": "stream",
     "text": [
      "Epoch 1/20\n",
      "49/49 [==============================] - 22s 394ms/step - loss: 0.5849 - acc: 0.7438 - val_loss: 0.3869 - val_acc: 0.8714\n",
      "Epoch 2/20\n",
      "49/49 [==============================] - 5s 95ms/step - loss: 0.3230 - acc: 0.9055 - val_loss: 0.3451 - val_acc: 0.8825\n",
      "Epoch 3/20\n",
      "49/49 [==============================] - 3s 62ms/step - loss: 0.2700 - acc: 0.9230 - val_loss: 0.3344 - val_acc: 0.8874\n",
      "Epoch 4/20\n",
      "49/49 [==============================] - 3s 55ms/step - loss: 0.2454 - acc: 0.9323 - val_loss: 0.3386 - val_acc: 0.8849\n",
      "Epoch 5/20\n",
      "49/49 [==============================] - 2s 45ms/step - loss: 0.2267 - acc: 0.9389 - val_loss: 0.3429 - val_acc: 0.8851\n",
      "Epoch 6/20\n",
      "49/49 [==============================] - 2s 49ms/step - loss: 0.2180 - acc: 0.9436 - val_loss: 0.3989 - val_acc: 0.8651\n",
      "Epoch 7/20\n",
      "49/49 [==============================] - 2s 51ms/step - loss: 0.2162 - acc: 0.9434 - val_loss: 0.3648 - val_acc: 0.8777\n",
      "Epoch 8/20\n",
      "49/49 [==============================] - 3s 55ms/step - loss: 0.2055 - acc: 0.9478 - val_loss: 0.3735 - val_acc: 0.8765\n",
      "Epoch 9/20\n",
      "49/49 [==============================] - 3s 54ms/step - loss: 0.2033 - acc: 0.9496 - val_loss: 0.4072 - val_acc: 0.8652\n",
      "Epoch 10/20\n",
      "49/49 [==============================] - 3s 52ms/step - loss: 0.2021 - acc: 0.9481 - val_loss: 0.3863 - val_acc: 0.8729\n",
      "Epoch 11/20\n",
      "49/49 [==============================] - 3s 57ms/step - loss: 0.1901 - acc: 0.9543 - val_loss: 0.3966 - val_acc: 0.8708\n",
      "Epoch 12/20\n",
      "49/49 [==============================] - 3s 57ms/step - loss: 0.1977 - acc: 0.9495 - val_loss: 0.4138 - val_acc: 0.8674\n",
      "Epoch 13/20\n",
      "49/49 [==============================] - 3s 58ms/step - loss: 0.1962 - acc: 0.9493 - val_loss: 0.4008 - val_acc: 0.8714\n",
      "Epoch 14/20\n",
      "49/49 [==============================] - 3s 55ms/step - loss: 0.1863 - acc: 0.9547 - val_loss: 0.4050 - val_acc: 0.8702\n",
      "Epoch 15/20\n",
      "49/49 [==============================] - 2s 50ms/step - loss: 0.1826 - acc: 0.9562 - val_loss: 0.4060 - val_acc: 0.8694\n",
      "Epoch 16/20\n",
      "49/49 [==============================] - 3s 53ms/step - loss: 0.1842 - acc: 0.9553 - val_loss: 0.4116 - val_acc: 0.8691\n",
      "Epoch 17/20\n",
      "49/49 [==============================] - 2s 50ms/step - loss: 0.1749 - acc: 0.9613 - val_loss: 0.4167 - val_acc: 0.8685\n",
      "Epoch 18/20\n",
      "49/49 [==============================] - 3s 52ms/step - loss: 0.1837 - acc: 0.9540 - val_loss: 0.4493 - val_acc: 0.8619\n",
      "Epoch 19/20\n",
      "49/49 [==============================] - 3s 52ms/step - loss: 0.1687 - acc: 0.9634 - val_loss: 0.4285 - val_acc: 0.8673\n",
      "Epoch 20/20\n",
      "49/49 [==============================] - 2s 51ms/step - loss: 0.1741 - acc: 0.9588 - val_loss: 0.4245 - val_acc: 0.8684\n"
     ]
    }
   ],
   "source": [
    "l2_model_hist = l2_model.fit(x_train, y_train,\n",
    "                             epochs=20,\n",
    "                             batch_size=512,\n",
    "                             validation_data=(x_test, y_test))"
   ]
  },
  {
   "cell_type": "code",
   "execution_count": 38,
   "metadata": {},
   "outputs": [
    {
     "data": {
      "image/png": "[encoded data removed]",
      "text/plain": [
       "<Figure size 432x288 with 1 Axes>"
      ]
     },
     "metadata": {
      "needs_background": "light"
     },
     "output_type": "display_data"
    }
   ],
   "source": [
    "l2_model_val_loss = l2_model_hist.history['val_loss']\n",
    "\n",
    "plt.plot(epochs, original_model_val_loss, 'b+', label='Original model')\n",
    "plt.plot(epochs, l2_model_val_loss, 'bo', label='L2-regularized model')\n",
    "plt.xlabel('Epochs')\n",
    "plt.ylabel('Validation loss')\n",
    "plt.legend()\n",
    "\n",
    "plt.show()"
   ]
  },
  {
   "cell_type": "markdown",
   "metadata": {},
   "source": [
    "[검증 손실에 대한 L2 가중치 규제의 효과(Effectiveness of L2 weight regularization about validation loss)]\n",
    "\n",
    "* 여기서 볼 수 있듯이 두 모델이 동일한 파라미터 수를 가지고 있더라도 L2 규제를 사용한 모델(점)이 기본 모델(덧셈 기호)보다 훨씬 더 과대적합에 잘 견디고 있습니다.\n",
    "* 케라스에서 L2 규제 대신에 다음과 같은 가중치 규제 중 하나를 사용할 수 있습니다:"
   ]
  },
  {
   "cell_type": "code",
   "execution_count": 12,
   "metadata": {},
   "outputs": [
    {
     "data": {
      "text/plain": [
       "'2.4.3'"
      ]
     },
     "execution_count": 12,
     "metadata": {},
     "output_type": "execute_result"
    }
   ],
   "source": [
    "import keras\n",
    "keras.__version__"
   ]
  },
  {
   "cell_type": "code",
   "execution_count": 13,
   "metadata": {},
   "outputs": [
    {
     "data": {
      "text/plain": [
       "<tensorflow.python.keras.regularizers.L1L2 at 0x2187a042610>"
      ]
     },
     "execution_count": 13,
     "metadata": {},
     "output_type": "execute_result"
    }
   ],
   "source": [
    "from keras import regularizers\n",
    "\n",
    "# L1 규제\n",
    "regularizers.l1(0.001)\n",
    "\n",
    "# L1과 L2 규제 병행\n",
    "regularizers.l1_l2(l1=0.001, l2=0.001)"
   ]
  },
  {
   "cell_type": "markdown",
   "metadata": {},
   "source": [
    "### L1(0.0001) 모델과 비교(compare L1 regularization model)"
   ]
  },
  {
   "cell_type": "code",
   "execution_count": 14,
   "metadata": {},
   "outputs": [],
   "source": [
    "l1_model = models.Sequential()\n",
    "l1_model.add(layers.Dense(16, kernel_regularizer=regularizers.l1(0.0001),\n",
    "                          activation='relu', input_shape=(10000,)))\n",
    "l1_model.add(layers.Dense(16, kernel_regularizer=regularizers.l1(0.0001),\n",
    "                          activation='relu'))\n",
    "l1_model.add(layers.Dense(1, activation='sigmoid'))"
   ]
  },
  {
   "cell_type": "code",
   "execution_count": 15,
   "metadata": {},
   "outputs": [],
   "source": [
    "l1_model.compile(optimizer='rmsprop',\n",
    "                 loss='binary_crossentropy',\n",
    "                 metrics=['acc'])"
   ]
  },
  {
   "cell_type": "code",
   "execution_count": 16,
   "metadata": {},
   "outputs": [
    {
     "name": "stdout",
     "output_type": "stream",
     "text": [
      "Epoch 1/20\n",
      "49/49 [==============================] - 29s 549ms/step - loss: 0.6776 - acc: 0.7433 - val_loss: 0.4341 - val_acc: 0.8737\n",
      "Epoch 2/20\n",
      "49/49 [==============================] - 7s 151ms/step - loss: 0.3873 - acc: 0.8920 - val_loss: 0.3707 - val_acc: 0.8866\n",
      "Epoch 3/20\n",
      "49/49 [==============================] - 3s 53ms/step - loss: 0.3234 - acc: 0.9119 - val_loss: 0.3560 - val_acc: 0.8881\n",
      "Epoch 4/20\n",
      "49/49 [==============================] - 2s 47ms/step - loss: 0.3009 - acc: 0.9185 - val_loss: 0.3595 - val_acc: 0.8847\n",
      "Epoch 5/20\n",
      "49/49 [==============================] - 2s 51ms/step - loss: 0.2878 - acc: 0.9232 - val_loss: 0.3566 - val_acc: 0.8879\n",
      "Epoch 6/20\n",
      "49/49 [==============================] - 2s 49ms/step - loss: 0.2779 - acc: 0.9266 - val_loss: 0.3668 - val_acc: 0.8830\n",
      "Epoch 7/20\n",
      "49/49 [==============================] - 3s 56ms/step - loss: 0.2738 - acc: 0.9287 - val_loss: 0.3659 - val_acc: 0.8842\n",
      "Epoch 8/20\n",
      "49/49 [==============================] - 2s 50ms/step - loss: 0.2719 - acc: 0.9276 - val_loss: 0.3702 - val_acc: 0.8821\n",
      "Epoch 9/20\n",
      "49/49 [==============================] - 3s 67ms/step - loss: 0.2619 - acc: 0.9321 - val_loss: 0.3671 - val_acc: 0.8843\n",
      "Epoch 10/20\n",
      "49/49 [==============================] - 2s 48ms/step - loss: 0.2526 - acc: 0.9377 - val_loss: 0.3841 - val_acc: 0.8774\n",
      "Epoch 11/20\n",
      "49/49 [==============================] - 3s 55ms/step - loss: 0.2471 - acc: 0.9397 - val_loss: 0.3785 - val_acc: 0.8807\n",
      "Epoch 12/20\n",
      "49/49 [==============================] - 3s 67ms/step - loss: 0.2359 - acc: 0.9449 - val_loss: 0.3856 - val_acc: 0.8798\n",
      "Epoch 13/20\n",
      "49/49 [==============================] - 3s 57ms/step - loss: 0.2399 - acc: 0.9428 - val_loss: 0.3903 - val_acc: 0.8774\n",
      "Epoch 14/20\n",
      "49/49 [==============================] - 4s 80ms/step - loss: 0.2323 - acc: 0.9467 - val_loss: 0.4355 - val_acc: 0.8620\n",
      "Epoch 15/20\n",
      "49/49 [==============================] - 3s 59ms/step - loss: 0.2267 - acc: 0.9476 - val_loss: 0.3968 - val_acc: 0.8784\n",
      "Epoch 16/20\n",
      "49/49 [==============================] - 3s 59ms/step - loss: 0.2247 - acc: 0.9502 - val_loss: 0.4062 - val_acc: 0.8735\n",
      "Epoch 17/20\n",
      "49/49 [==============================] - 4s 78ms/step - loss: 0.2131 - acc: 0.9522 - val_loss: 0.4170 - val_acc: 0.8747\n",
      "Epoch 18/20\n",
      "49/49 [==============================] - 4s 88ms/step - loss: 0.2190 - acc: 0.9487 - val_loss: 0.4355 - val_acc: 0.8661\n",
      "Epoch 19/20\n",
      "49/49 [==============================] - 5s 93ms/step - loss: 0.2096 - acc: 0.9542 - val_loss: 0.4260 - val_acc: 0.8721\n",
      "Epoch 20/20\n",
      "49/49 [==============================] - 5s 98ms/step - loss: 0.2029 - acc: 0.9565 - val_loss: 0.4169 - val_acc: 0.8730\n"
     ]
    }
   ],
   "source": [
    "l1_model_hist = l1_model.fit(x_train, y_train,\n",
    "                             epochs=20,\n",
    "                             batch_size=512,\n",
    "                             validation_data=(x_test, y_test))"
   ]
  },
  {
   "cell_type": "code",
   "execution_count": 17,
   "metadata": {},
   "outputs": [
    {
     "data": {
      "image/png": "[encoded data removed]",
      "text/plain": [
       "<Figure size 432x288 with 1 Axes>"
      ]
     },
     "metadata": {
      "needs_background": "light"
     },
     "output_type": "display_data"
    }
   ],
   "source": [
    "l1_model_val_loss = l1_model_hist.history['val_loss']\n",
    "\n",
    "plt.plot(epochs, original_model_val_loss, 'b+', label='Original model')\n",
    "plt.plot(epochs, l1_model_val_loss, 'bo', label='L1-regularized model')\n",
    "plt.xlabel('Epochs')\n",
    "plt.ylabel('Validation loss')\n",
    "plt.legend()\n",
    "\n",
    "plt.show()"
   ]
  },
  {
   "cell_type": "markdown",
   "metadata": {},
   "source": [
    "### l1_l2(l1=0.0001, l2=0.0001)모델과 비교"
   ]
  },
  {
   "cell_type": "code",
   "execution_count": 18,
   "metadata": {},
   "outputs": [],
   "source": [
    "l1l2_model = models.Sequential()\n",
    "l1l2_model.add(layers.Dense(16, kernel_regularizer=regularizers.l1_l2(l1=0.0001, l2=0.0001),\n",
    "                            activation='relu', input_shape=(10000,)))\n",
    "l1l2_model.add(layers.Dense(16, kernel_regularizer=regularizers.l1_l2(l1=0.0001, l2=0.0001),\n",
    "                            activation='relu'))\n",
    "l1l2_model.add(layers.Dense(1, activation='sigmoid'))"
   ]
  },
  {
   "cell_type": "code",
   "execution_count": 19,
   "metadata": {},
   "outputs": [],
   "source": [
    "l1l2_model.compile(optimizer='rmsprop',\n",
    "                   loss='binary_crossentropy',\n",
    "                   metrics=['acc'])"
   ]
  },
  {
   "cell_type": "code",
   "execution_count": 20,
   "metadata": {},
   "outputs": [
    {
     "name": "stdout",
     "output_type": "stream",
     "text": [
      "Epoch 1/20\n",
      "49/49 [==============================] - 28s 538ms/step - loss: 0.6694 - acc: 0.7372 - val_loss: 0.4198 - val_acc: 0.8776\n",
      "Epoch 2/20\n",
      "49/49 [==============================] - 6s 116ms/step - loss: 0.3713 - acc: 0.9001 - val_loss: 0.3692 - val_acc: 0.8898\n",
      "Epoch 3/20\n",
      "49/49 [==============================] - 2s 51ms/step - loss: 0.3219 - acc: 0.9137 - val_loss: 0.3619 - val_acc: 0.8877\n",
      "Epoch 4/20\n",
      "49/49 [==============================] - 3s 64ms/step - loss: 0.3006 - acc: 0.9191 - val_loss: 0.3723 - val_acc: 0.8840\n",
      "Epoch 5/20\n",
      "49/49 [==============================] - 2s 46ms/step - loss: 0.2948 - acc: 0.9207 - val_loss: 0.4013 - val_acc: 0.8686\n",
      "Epoch 6/20\n",
      "49/49 [==============================] - 2s 44ms/step - loss: 0.2906 - acc: 0.9216 - val_loss: 0.3749 - val_acc: 0.8814\n",
      "Epoch 7/20\n",
      "49/49 [==============================] - 2s 48ms/step - loss: 0.2809 - acc: 0.9254 - val_loss: 0.3787 - val_acc: 0.8794\n",
      "Epoch 8/20\n",
      "49/49 [==============================] - 2s 43ms/step - loss: 0.2760 - acc: 0.9279 - val_loss: 0.3734 - val_acc: 0.8835\n",
      "Epoch 9/20\n",
      "49/49 [==============================] - 2s 47ms/step - loss: 0.2733 - acc: 0.9310 - val_loss: 0.4666 - val_acc: 0.8466\n",
      "Epoch 10/20\n",
      "49/49 [==============================] - 2s 44ms/step - loss: 0.2679 - acc: 0.9299 - val_loss: 0.3806 - val_acc: 0.8833\n",
      "Epoch 11/20\n",
      "49/49 [==============================] - 2s 47ms/step - loss: 0.2635 - acc: 0.9346 - val_loss: 0.4472 - val_acc: 0.8572\n",
      "Epoch 12/20\n",
      "49/49 [==============================] - 2s 43ms/step - loss: 0.2567 - acc: 0.9365 - val_loss: 0.4285 - val_acc: 0.8673\n",
      "Epoch 13/20\n",
      "49/49 [==============================] - 2s 49ms/step - loss: 0.2575 - acc: 0.9374 - val_loss: 0.3989 - val_acc: 0.8746\n",
      "Epoch 14/20\n",
      "49/49 [==============================] - 2s 45ms/step - loss: 0.2445 - acc: 0.9427 - val_loss: 0.3925 - val_acc: 0.8798\n",
      "Epoch 15/20\n",
      "49/49 [==============================] - 2s 48ms/step - loss: 0.2455 - acc: 0.9408 - val_loss: 0.3966 - val_acc: 0.8778\n",
      "Epoch 16/20\n",
      "49/49 [==============================] - 2s 45ms/step - loss: 0.2391 - acc: 0.9441 - val_loss: 0.3978 - val_acc: 0.8766\n",
      "Epoch 17/20\n",
      "49/49 [==============================] - 2s 46ms/step - loss: 0.2368 - acc: 0.9474 - val_loss: 0.4135 - val_acc: 0.8723\n",
      "Epoch 18/20\n",
      "49/49 [==============================] - 2s 46ms/step - loss: 0.2297 - acc: 0.9487 - val_loss: 0.4155 - val_acc: 0.8722\n",
      "Epoch 19/20\n",
      "49/49 [==============================] - 2s 44ms/step - loss: 0.2296 - acc: 0.9498 - val_loss: 0.4106 - val_acc: 0.8766\n",
      "Epoch 20/20\n",
      "49/49 [==============================] - 2s 46ms/step - loss: 0.2244 - acc: 0.9529 - val_loss: 0.4156 - val_acc: 0.8760\n"
     ]
    }
   ],
   "source": [
    "l1l2_model_hist = l1l2_model.fit(x_train, y_train,\n",
    "                                 epochs=20,\n",
    "                                 batch_size=512,\n",
    "                                 validation_data=(x_test, y_test))"
   ]
  },
  {
   "cell_type": "code",
   "execution_count": 22,
   "metadata": {},
   "outputs": [
    {
     "data": {
      "image/png": "[encoded data removed]",
      "text/plain": [
       "<Figure size 432x288 with 1 Axes>"
      ]
     },
     "metadata": {
      "needs_background": "light"
     },
     "output_type": "display_data"
    }
   ],
   "source": [
    "l1l2_model_val_loss = l1l2_model_hist.history['val_loss']\n",
    "\n",
    "plt.plot(epochs, original_model_val_loss, 'b+', label='Original model')\n",
    "plt.plot(epochs, l1l2_model_val_loss, 'bo', label='L1,L2-regularized model')\n",
    "plt.xlabel('Epochs')\n",
    "plt.ylabel('Validation loss')\n",
    "plt.legend()\n",
    "\n",
    "plt.show()"
   ]
  },
  {
   "cell_type": "markdown",
   "metadata": {},
   "source": [
    "### 4.4.3 드롭아웃 추가\n",
    "\n",
    "* 드롭아웃은 토론토 대학의 제프리 힌튼과 그의 학생들이 개발했습니다. 신경망을 위해 사용되는 규제 기법 중에서 가장 효과적이고 널리 사용되는 방법 중에 하나입니다. 네트워크의 층에 드롭아웃을 적용하면 훈련하는 동안 무작위로 층의 일부 출력 특성을 제외시킵니다(0으로 만듭니다). 한 층이 정상적으로 훈련하는 동안에는 어떤 입력 샘플에 대해 [0.2, 0.5, 1.3, 0.8, 1.1] 벡터를 출력한다고 가정합시다. 드롭아웃을 적용하면 이 벡터의 일부가 무작위로 0으로 바뀝니다. 예를 들면 [0, 0.5, 1.3, 0, 1.1]이 됩니다. 드롭아웃 비율은 0이 될 특성의 비율입니다. 보통 0.2에서 0.5 사이로 지정됩니다. 테스트 단계에서는 어떤 유닛도 드롭아웃되지 않습니다. 대신에 층의 출력을 드롭아웃 비율에 비례하여 줄여 줍니다. 훈련할 때보다 더 많은 유닛이 활성화되기 때문입니다.\n",
    "\n",
    "* 크기가 (batch_size, features)인 한 층의 출력을 담고 있는 넘파이 행렬을 생각해 보겠습니다. 훈련할 때는 이 행렬의 값의 일부가 랜덤하게 0이 됩니다."
   ]
  },
  {
   "cell_type": "markdown",
   "metadata": {},
   "source": [
    "```python\n",
    "# 훈련할 때 유닛의 출력 중 50%를 버립니다\n",
    "layer_output *= np.random.randint(0, high=2,\n",
    "size=layer_output.shape)\n",
    "```"
   ]
  },
  {
   "cell_type": "markdown",
   "metadata": {},
   "source": [
    "* 테스트할 때는 드롭아웃 비율로 출력을 낮추어 주어야 합니다. 여기에서는 0.5배만큼 스케일을 조정했습니다(앞에서 절반의 유닛을 드롭아웃했으므로)."
   ]
  },
  {
   "cell_type": "markdown",
   "metadata": {},
   "source": [
    "```python\n",
    "# 테스트 단계\n",
    "layer_output *= 0.5\n",
    "```"
   ]
  },
  {
   "cell_type": "markdown",
   "metadata": {},
   "source": [
    "* 훈련 단계에 이 두 연산을 포함시켜 테스트 단계에는 출력을 그대로 두도록 구현할 수 있습니다. 실제로 종종 이런 방식으로 구현합니다."
   ]
  },
  {
   "cell_type": "markdown",
   "metadata": {},
   "source": [
    "```python\n",
    "# 훈련 단계\n",
    "layer_output *= np.randint(0, high=2, size=layer_output.shape)\n",
    "\n",
    "# 여기에서 스케일을 낮추는 대신 높입니다![image.png](attachment:image.png)\n",
    "layer_output /= 0.5\n",
    "```"
   ]
  },
  {
   "cell_type": "markdown",
   "metadata": {},
   "source": [
    "* 이 기법이 이상하고 무계획적으로 보일 수 있습니다. 왜 드롭아웃이 과대적합을 줄이는 데 도움이 될까요? 힌튼은 은행에서 사용하는 부정 방지 메커니즘에서 착안했다고 합니다. 그의 말을 빌리면 “은행에 갔을 때 행원들이 계속 바뀌길래 왜 그런지를 물었습니다. 자신들도 이유는 모르지만 자주 업무가 바뀐다고 했습니다. 나는 은행에서 부정 행위를 하려면 직원들 사이의 유대가 필요하기 때문이라고 판단했습니다. 각 샘플에 대해 뉴런의 일부를 무작위하게 제거하면 뉴런의 부정한 협업을 방지하고 결국 과대적합을 감소시킨다는 것을 깨달았습니다.\"\n",
    "\n",
    "* 핵심 아이디어는 층의 출력 값에 노이즈를 추가하여 중요하지 않은 우연한 패턴(힌튼이 이야기한 부정한 협업)을 깨뜨리는 것입니다. 노이즈가 없다면 네트워크가 이 패턴을 기억하기 시작할 것입니다.\n",
    "\n",
    "* 케라스에서는 층의 출력 바로 뒤에 Dropout 층을 추가하여 네트워크에 드롭아웃을 적용할 수 있습니다."
   ]
  },
  {
   "cell_type": "markdown",
   "metadata": {},
   "source": [
    "```python\n",
    "model.add(layers.Dropout(0.5))\n",
    "```"
   ]
  },
  {
   "cell_type": "markdown",
   "metadata": {},
   "source": [
    "* IMDB 네트워크에 두 개의 Dropout 층을 추가하고 과대적합을 얼마나 줄여주는지 확인해 보겠습니다."
   ]
  },
  {
   "cell_type": "code",
   "execution_count": 23,
   "metadata": {},
   "outputs": [],
   "source": [
    "# IMDB 네트워크에 드롭아웃 추가하기(add dropout to IMDB network)\n",
    "dpt_model = models.Sequential()\n",
    "dpt_model.add(layers.Dense(16, activation='relu', input_shape=(10000,)))\n",
    "dpt_model.add(layers.Dropout(0.5))\n",
    "dpt_model.add(layers.Dense(16, activation='relu'))\n",
    "dpt_model.add(layers.Dropout(0.5))\n",
    "dpt_model.add(layers.Dense(1, activation='sigmoid'))\n",
    "\n",
    "dpt_model.compile(optimizer='rmsprop',\n",
    "                  loss='binary_crossentropy',\n",
    "                  metrics=['acc'])"
   ]
  },
  {
   "cell_type": "code",
   "execution_count": 24,
   "metadata": {},
   "outputs": [
    {
     "name": "stdout",
     "output_type": "stream",
     "text": [
      "Epoch 1/20\n",
      "49/49 [==============================] - 25s 478ms/step - loss: 0.6266 - acc: 0.6342 - val_loss: 0.4147 - val_acc: 0.8726\n",
      "Epoch 2/20\n",
      "49/49 [==============================] - 7s 141ms/step - loss: 0.4394 - acc: 0.8182 - val_loss: 0.3259 - val_acc: 0.8804\n",
      "Epoch 3/20\n",
      "49/49 [==============================] - 3s 51ms/step - loss: 0.3490 - acc: 0.8681 - val_loss: 0.2834 - val_acc: 0.8898\n",
      "Epoch 4/20\n",
      "49/49 [==============================] - 2s 48ms/step - loss: 0.2894 - acc: 0.8953 - val_loss: 0.2754 - val_acc: 0.8908\n",
      "Epoch 5/20\n",
      "49/49 [==============================] - 2s 48ms/step - loss: 0.2503 - acc: 0.9176 - val_loss: 0.2835 - val_acc: 0.8891\n",
      "Epoch 6/20\n",
      "49/49 [==============================] - 2s 43ms/step - loss: 0.2223 - acc: 0.9263 - val_loss: 0.3025 - val_acc: 0.8858\n",
      "Epoch 7/20\n",
      "49/49 [==============================] - 2s 51ms/step - loss: 0.1985 - acc: 0.9335 - val_loss: 0.3089 - val_acc: 0.8855\n",
      "Epoch 8/20\n",
      "49/49 [==============================] - 2s 48ms/step - loss: 0.1793 - acc: 0.9395 - val_loss: 0.3385 - val_acc: 0.8842\n",
      "Epoch 9/20\n",
      "49/49 [==============================] - 2s 47ms/step - loss: 0.1616 - acc: 0.9455 - val_loss: 0.3661 - val_acc: 0.8828\n",
      "Epoch 10/20\n",
      "49/49 [==============================] - 2s 48ms/step - loss: 0.1469 - acc: 0.9515 - val_loss: 0.3631 - val_acc: 0.8823\n",
      "Epoch 11/20\n",
      "49/49 [==============================] - 2s 44ms/step - loss: 0.1445 - acc: 0.9526 - val_loss: 0.4033 - val_acc: 0.8810\n",
      "Epoch 12/20\n",
      "49/49 [==============================] - 2s 50ms/step - loss: 0.1355 - acc: 0.9562 - val_loss: 0.4122 - val_acc: 0.8798\n",
      "Epoch 13/20\n",
      "49/49 [==============================] - 2s 44ms/step - loss: 0.1283 - acc: 0.9580 - val_loss: 0.4509 - val_acc: 0.8792\n",
      "Epoch 14/20\n",
      "49/49 [==============================] - 2s 48ms/step - loss: 0.1213 - acc: 0.9595 - val_loss: 0.4768 - val_acc: 0.8784\n",
      "Epoch 15/20\n",
      "49/49 [==============================] - 2s 47ms/step - loss: 0.1139 - acc: 0.9648 - val_loss: 0.4894 - val_acc: 0.8766\n",
      "Epoch 16/20\n",
      "49/49 [==============================] - 2s 48ms/step - loss: 0.1154 - acc: 0.9603 - val_loss: 0.5049 - val_acc: 0.8755\n",
      "Epoch 17/20\n",
      "49/49 [==============================] - 2s 46ms/step - loss: 0.1139 - acc: 0.9662 - val_loss: 0.5190 - val_acc: 0.8746\n",
      "Epoch 18/20\n",
      "49/49 [==============================] - 2s 46ms/step - loss: 0.1053 - acc: 0.9666 - val_loss: 0.5334 - val_acc: 0.8730\n",
      "Epoch 19/20\n",
      "49/49 [==============================] - 2s 46ms/step - loss: 0.1069 - acc: 0.9674 - val_loss: 0.5732 - val_acc: 0.8732\n",
      "Epoch 20/20\n",
      "49/49 [==============================] - 2s 45ms/step - loss: 0.1080 - acc: 0.9670 - val_loss: 0.5975 - val_acc: 0.8728\n"
     ]
    }
   ],
   "source": [
    "dpt_model_hist = dpt_model.fit(x_train, y_train,\n",
    "                               epochs=20,\n",
    "                               batch_size=512,\n",
    "                               validation_data=(x_test, y_test))"
   ]
  },
  {
   "cell_type": "code",
   "execution_count": 25,
   "metadata": {},
   "outputs": [
    {
     "data": {
      "image/png": "[encoded data removed]",
      "text/plain": [
       "<Figure size 432x288 with 1 Axes>"
      ]
     },
     "metadata": {
      "needs_background": "light"
     },
     "output_type": "display_data"
    }
   ],
   "source": [
    "dpt_model_val_loss = dpt_model_hist.history['val_loss']\n",
    "\n",
    "plt.plot(epochs, original_model_val_loss, 'b+', label='Original model')\n",
    "plt.plot(epochs, dpt_model_val_loss, 'bo', label='Dropout-regularized model')\n",
    "plt.xlabel('Epochs')\n",
    "plt.ylabel('Validation loss')\n",
    "plt.legend()\n",
    "\n",
    "plt.show()"
   ]
  },
  {
   "cell_type": "markdown",
   "metadata": {},
   "source": [
    "[검증 손실에 대한 드롭아웃의 효과(Effect of Dropout on Validation Loss)]"
   ]
  },
  {
   "cell_type": "markdown",
   "metadata": {},
   "source": [
    "* 여기에서도 기본 네트워크보다 확실히 향상되었습니다.\n",
    "* 정리하면 신경망에서 과대적합을 방지하기 위해 가장 널리 사용하는 방법은 다음과 같습니다.\n",
    "    * 훈련 데이터를 더 모읍니다.\n",
    "    * 네트워크의 용량을 감소시킵니다.\n",
    "    * 가중치 규제를 추가합니다.\n",
    "    * 드롭아웃을 추가합니다."
   ]
  }
 ],
 "metadata": {
  "kernelspec": {
   "display_name": "Python 3",
   "language": "python",
   "name": "python3"
  },
  "language_info": {
   "codemirror_mode": {
    "name": "ipython",
    "version": 3
   },
   "file_extension": ".py",
   "mimetype": "text/x-python",
   "name": "python",
   "nbconvert_exporter": "python",
   "pygments_lexer": "ipython3",
   "version": "3.8.5"
  }
 },
 "nbformat": 4,
 "nbformat_minor": 4
}
