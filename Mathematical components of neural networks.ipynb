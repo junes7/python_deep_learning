{
 "cells": [
  {
   "cell_type": "markdown",
   "metadata": {},
   "source": [
    "# 신경망의 수학적 구성 요소(Mathematical Components of neural networks)\n",
    "\n",
    "* 아래 코드를 구현하기 위해서는 keras랑 tensorflow를 설치해 주어야 한다.\n",
    "```bash\n",
    "pip install keras\n",
    "pip install tensorflow\n",
    "pip install --user --upgrade tensorflow-gpu\n",
    "pip install --user --upgrade tensorboard\n",
    "pip install keras==2.3.1\n",
    "pip install tensorflow==2.2\n",
    "pip install --user --upgrade tensorflow-gpu==1.14.0\n",
    "```\n",
    "* 텐서플로우를 설치한 후, 텐서플로우 모듈시 다음과 같은 에러가 발생할 수 있습니다.\n",
    "* 이런 경우 다음 주소에서 vc_redist.x64.exe를 다운로드 받아 설치하면 해결됩니다.\n",
    "https://support.microsoft.com/en-us/help/2977003/the-latest-supported-visual-c-downloads"
   ]
  },
  {
   "cell_type": "code",
   "execution_count": 3,
   "metadata": {},
   "outputs": [
    {
     "name": "stderr",
     "output_type": "stream",
     "text": [
      "Using TensorFlow backend.\n"
     ]
    },
    {
     "name": "stdout",
     "output_type": "stream",
     "text": [
      "Downloading data from https://s3.amazonaws.com/img-datasets/mnist.npz\n",
      "11493376/11490434 [==============================] - 6s 1us/step\n"
     ]
    }
   ],
   "source": [
    "## 신경망과의 첫 만남\n",
    "from keras.datasets import mnist\n",
    "(train_images, train_labels), (test_images, test_labels) = mnist.load_data()"
   ]
  },
  {
   "cell_type": "code",
   "execution_count": null,
   "metadata": {},
   "outputs": [],
   "source": [
    "print(train_images.shape)\n",
    "print(len(train_labels))"
   ]
  }
 ],
 "metadata": {
  "kernelspec": {
   "display_name": "Python 3",
   "language": "python",
   "name": "python3"
  },
  "language_info": {
   "codemirror_mode": {
    "name": "ipython",
    "version": 3
   },
   "file_extension": ".py",
   "mimetype": "text/x-python",
   "name": "python",
   "nbconvert_exporter": "python",
   "pygments_lexer": "ipython3",
   "version": "3.8.5"
  }
 },
 "nbformat": 4,
 "nbformat_minor": 4
}
